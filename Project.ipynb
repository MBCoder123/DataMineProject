{
 "cells": [
  {
   "cell_type": "code",
   "execution_count": 20,
   "metadata": {},
   "outputs": [],
   "source": [
    "import pandas as pd\n",
    "import pandas_profiling\n",
    "import matplotlib.pyplot as plt\n",
    "import seaborn as sns\n",
    "import numpy as np\n",
    "from scipy import stats\n",
    "from sklearn import preprocessing\n",
    "from sklearn.model_selection import train_test_split\n",
    "from sklearn.cluster import KMeans\n",
    "from sklearn.decomposition import PCA\n",
    "from sklearn.linear_model import LinearRegression\n",
    "from sklearn import metrics"
   ]
  },
  {
   "cell_type": "code",
   "execution_count": 9,
   "metadata": {},
   "outputs": [
    {
     "data": {
      "text/html": [
       "<div>\n",
       "<style scoped>\n",
       "    .dataframe tbody tr th:only-of-type {\n",
       "        vertical-align: middle;\n",
       "    }\n",
       "\n",
       "    .dataframe tbody tr th {\n",
       "        vertical-align: top;\n",
       "    }\n",
       "\n",
       "    .dataframe thead th {\n",
       "        text-align: right;\n",
       "    }\n",
       "</style>\n",
       "<table border=\"1\" class=\"dataframe\">\n",
       "  <thead>\n",
       "    <tr style=\"text-align: right;\">\n",
       "      <th></th>\n",
       "      <th>Provider Id</th>\n",
       "      <th>Provider Zip Code</th>\n",
       "      <th>Total Discharges</th>\n",
       "      <th>Average Covered Charges</th>\n",
       "      <th>Average Total Payments</th>\n",
       "      <th>Average Medicare Payments</th>\n",
       "    </tr>\n",
       "  </thead>\n",
       "  <tbody>\n",
       "    <tr>\n",
       "      <td>count</td>\n",
       "      <td>163065.000000</td>\n",
       "      <td>163065.000000</td>\n",
       "      <td>163065.000000</td>\n",
       "      <td>163065.000000</td>\n",
       "      <td>163065.000000</td>\n",
       "      <td>163065.000000</td>\n",
       "    </tr>\n",
       "    <tr>\n",
       "      <td>mean</td>\n",
       "      <td>255569.865428</td>\n",
       "      <td>47938.121908</td>\n",
       "      <td>42.776304</td>\n",
       "      <td>36133.958434</td>\n",
       "      <td>9707.477867</td>\n",
       "      <td>8494.495174</td>\n",
       "    </tr>\n",
       "    <tr>\n",
       "      <td>std</td>\n",
       "      <td>151563.671767</td>\n",
       "      <td>27854.323080</td>\n",
       "      <td>51.104042</td>\n",
       "      <td>35065.365905</td>\n",
       "      <td>7664.642652</td>\n",
       "      <td>7309.467247</td>\n",
       "    </tr>\n",
       "    <tr>\n",
       "      <td>min</td>\n",
       "      <td>10001.000000</td>\n",
       "      <td>1040.000000</td>\n",
       "      <td>11.000000</td>\n",
       "      <td>2459.400000</td>\n",
       "      <td>2673.000000</td>\n",
       "      <td>1148.909091</td>\n",
       "    </tr>\n",
       "    <tr>\n",
       "      <td>25%</td>\n",
       "      <td>110092.000000</td>\n",
       "      <td>27261.000000</td>\n",
       "      <td>17.000000</td>\n",
       "      <td>15947.166670</td>\n",
       "      <td>5234.500000</td>\n",
       "      <td>4192.354839</td>\n",
       "    </tr>\n",
       "    <tr>\n",
       "      <td>50%</td>\n",
       "      <td>250007.000000</td>\n",
       "      <td>44309.000000</td>\n",
       "      <td>27.000000</td>\n",
       "      <td>25245.823530</td>\n",
       "      <td>7214.100000</td>\n",
       "      <td>6158.465116</td>\n",
       "    </tr>\n",
       "    <tr>\n",
       "      <td>75%</td>\n",
       "      <td>380075.000000</td>\n",
       "      <td>72901.000000</td>\n",
       "      <td>49.000000</td>\n",
       "      <td>43232.592590</td>\n",
       "      <td>11286.400000</td>\n",
       "      <td>10056.882350</td>\n",
       "    </tr>\n",
       "    <tr>\n",
       "      <td>max</td>\n",
       "      <td>670077.000000</td>\n",
       "      <td>99835.000000</td>\n",
       "      <td>3383.000000</td>\n",
       "      <td>929118.909100</td>\n",
       "      <td>156158.181800</td>\n",
       "      <td>154620.818200</td>\n",
       "    </tr>\n",
       "  </tbody>\n",
       "</table>\n",
       "</div>"
      ],
      "text/plain": [
       "         Provider Id  Provider Zip Code  Total Discharges  \\\n",
       "count  163065.000000      163065.000000     163065.000000   \n",
       "mean   255569.865428       47938.121908         42.776304   \n",
       "std    151563.671767       27854.323080         51.104042   \n",
       "min     10001.000000        1040.000000         11.000000   \n",
       "25%    110092.000000       27261.000000         17.000000   \n",
       "50%    250007.000000       44309.000000         27.000000   \n",
       "75%    380075.000000       72901.000000         49.000000   \n",
       "max    670077.000000       99835.000000       3383.000000   \n",
       "\n",
       "       Average Covered Charges  Average Total Payments  \\\n",
       "count            163065.000000           163065.000000   \n",
       "mean              36133.958434             9707.477867   \n",
       "std               35065.365905             7664.642652   \n",
       "min                2459.400000             2673.000000   \n",
       "25%               15947.166670             5234.500000   \n",
       "50%               25245.823530             7214.100000   \n",
       "75%               43232.592590            11286.400000   \n",
       "max              929118.909100           156158.181800   \n",
       "\n",
       "       Average Medicare Payments  \n",
       "count              163065.000000  \n",
       "mean                 8494.495174  \n",
       "std                  7309.467247  \n",
       "min                  1148.909091  \n",
       "25%                  4192.354839  \n",
       "50%                  6158.465116  \n",
       "75%                 10056.882350  \n",
       "max                154620.818200  "
      ]
     },
     "execution_count": 9,
     "metadata": {},
     "output_type": "execute_result"
    }
   ],
   "source": [
    "'''Data Mining Project\n",
    "'''\n",
    "\n",
    "# Preprocessing and initial data exploration\n",
    "df = pd.read_csv('./Inpatient_Data_2011_CSV/Medicare_Provider_Charge_Inpatient_DRG100_FY2011.csv')\n",
    "df.describe()"
   ]
  },
  {
   "cell_type": "code",
   "execution_count": 7,
   "metadata": {
    "collapsed": true
   },
   "outputs": [
    {
     "ename": "KeyboardInterrupt",
     "evalue": "",
     "output_type": "error",
     "traceback": [
      "\u001b[0;31m---------------------------------------------------------------------------\u001b[0m",
      "\u001b[0;31mKeyboardInterrupt\u001b[0m                         Traceback (most recent call last)",
      "\u001b[0;32m<ipython-input-7-c5473803fb1b>\u001b[0m in \u001b[0;36m<module>\u001b[0;34m\u001b[0m\n\u001b[0;32m----> 1\u001b[0;31m \u001b[0mpandas_profiling\u001b[0m\u001b[0;34m.\u001b[0m\u001b[0mProfileReport\u001b[0m\u001b[0;34m(\u001b[0m\u001b[0mdf\u001b[0m\u001b[0;34m)\u001b[0m\u001b[0;34m\u001b[0m\u001b[0;34m\u001b[0m\u001b[0m\n\u001b[0m",
      "\u001b[0;32m/usr/local/lib/python3.7/site-packages/pandas_profiling/__init__.py\u001b[0m in \u001b[0;36m__init__\u001b[0;34m(self, df, **kwargs)\u001b[0m\n\u001b[1;32m     66\u001b[0m \u001b[0;34m\u001b[0m\u001b[0m\n\u001b[1;32m     67\u001b[0m         \u001b[0;31m# Get dataset statistics\u001b[0m\u001b[0;34m\u001b[0m\u001b[0;34m\u001b[0m\u001b[0;34m\u001b[0m\u001b[0m\n\u001b[0;32m---> 68\u001b[0;31m         \u001b[0mdescription_set\u001b[0m \u001b[0;34m=\u001b[0m \u001b[0mdescribe_df\u001b[0m\u001b[0;34m(\u001b[0m\u001b[0mdf\u001b[0m\u001b[0;34m)\u001b[0m\u001b[0;34m\u001b[0m\u001b[0;34m\u001b[0m\u001b[0m\n\u001b[0m\u001b[1;32m     69\u001b[0m \u001b[0;34m\u001b[0m\u001b[0m\n\u001b[1;32m     70\u001b[0m         \u001b[0;31m# Get sample\u001b[0m\u001b[0;34m\u001b[0m\u001b[0;34m\u001b[0m\u001b[0;34m\u001b[0m\u001b[0m\n",
      "\u001b[0;32m/usr/local/lib/python3.7/site-packages/pandas_profiling/model/describe.py\u001b[0m in \u001b[0;36mdescribe\u001b[0;34m(df)\u001b[0m\n\u001b[1;32m    538\u001b[0m         \u001b[0;32mwith\u001b[0m \u001b[0mmultiprocessing\u001b[0m\u001b[0;34m.\u001b[0m\u001b[0mpool\u001b[0m\u001b[0;34m.\u001b[0m\u001b[0mThreadPool\u001b[0m\u001b[0;34m(\u001b[0m\u001b[0mpool_size\u001b[0m\u001b[0;34m)\u001b[0m \u001b[0;32mas\u001b[0m \u001b[0mexecutor\u001b[0m\u001b[0;34m:\u001b[0m\u001b[0;34m\u001b[0m\u001b[0;34m\u001b[0m\u001b[0m\n\u001b[1;32m    539\u001b[0m             \u001b[0mseries_description\u001b[0m \u001b[0;34m=\u001b[0m \u001b[0;34m{\u001b[0m\u001b[0;34m}\u001b[0m\u001b[0;34m\u001b[0m\u001b[0;34m\u001b[0m\u001b[0m\n\u001b[0;32m--> 540\u001b[0;31m             \u001b[0mresults\u001b[0m \u001b[0;34m=\u001b[0m \u001b[0mexecutor\u001b[0m\u001b[0;34m.\u001b[0m\u001b[0mstarmap\u001b[0m\u001b[0;34m(\u001b[0m\u001b[0mmultiprocess_1d\u001b[0m\u001b[0;34m,\u001b[0m \u001b[0mdf\u001b[0m\u001b[0;34m.\u001b[0m\u001b[0miteritems\u001b[0m\u001b[0;34m(\u001b[0m\u001b[0;34m)\u001b[0m\u001b[0;34m)\u001b[0m\u001b[0;34m\u001b[0m\u001b[0;34m\u001b[0m\u001b[0m\n\u001b[0m\u001b[1;32m    541\u001b[0m             \u001b[0;32mfor\u001b[0m \u001b[0mcol\u001b[0m\u001b[0;34m,\u001b[0m \u001b[0mdescription\u001b[0m \u001b[0;32min\u001b[0m \u001b[0mresults\u001b[0m\u001b[0;34m:\u001b[0m\u001b[0;34m\u001b[0m\u001b[0;34m\u001b[0m\u001b[0m\n\u001b[1;32m    542\u001b[0m                 \u001b[0mseries_description\u001b[0m\u001b[0;34m[\u001b[0m\u001b[0mcol\u001b[0m\u001b[0;34m]\u001b[0m \u001b[0;34m=\u001b[0m \u001b[0mdescription\u001b[0m\u001b[0;34m\u001b[0m\u001b[0;34m\u001b[0m\u001b[0m\n",
      "\u001b[0;32m/usr/local/Cellar/python/3.7.4/Frameworks/Python.framework/Versions/3.7/lib/python3.7/multiprocessing/pool.py\u001b[0m in \u001b[0;36mstarmap\u001b[0;34m(self, func, iterable, chunksize)\u001b[0m\n\u001b[1;32m    274\u001b[0m         \u001b[0;31m`\u001b[0m\u001b[0mfunc\u001b[0m\u001b[0;31m`\u001b[0m \u001b[0;32mand\u001b[0m \u001b[0;34m(\u001b[0m\u001b[0ma\u001b[0m\u001b[0;34m,\u001b[0m \u001b[0mb\u001b[0m\u001b[0;34m)\u001b[0m \u001b[0mbecomes\u001b[0m \u001b[0mfunc\u001b[0m\u001b[0;34m(\u001b[0m\u001b[0ma\u001b[0m\u001b[0;34m,\u001b[0m \u001b[0mb\u001b[0m\u001b[0;34m)\u001b[0m\u001b[0;34m.\u001b[0m\u001b[0;34m\u001b[0m\u001b[0;34m\u001b[0m\u001b[0m\n\u001b[1;32m    275\u001b[0m         '''\n\u001b[0;32m--> 276\u001b[0;31m         \u001b[0;32mreturn\u001b[0m \u001b[0mself\u001b[0m\u001b[0;34m.\u001b[0m\u001b[0m_map_async\u001b[0m\u001b[0;34m(\u001b[0m\u001b[0mfunc\u001b[0m\u001b[0;34m,\u001b[0m \u001b[0miterable\u001b[0m\u001b[0;34m,\u001b[0m \u001b[0mstarmapstar\u001b[0m\u001b[0;34m,\u001b[0m \u001b[0mchunksize\u001b[0m\u001b[0;34m)\u001b[0m\u001b[0;34m.\u001b[0m\u001b[0mget\u001b[0m\u001b[0;34m(\u001b[0m\u001b[0;34m)\u001b[0m\u001b[0;34m\u001b[0m\u001b[0;34m\u001b[0m\u001b[0m\n\u001b[0m\u001b[1;32m    277\u001b[0m \u001b[0;34m\u001b[0m\u001b[0m\n\u001b[1;32m    278\u001b[0m     def starmap_async(self, func, iterable, chunksize=None, callback=None,\n",
      "\u001b[0;32m/usr/local/Cellar/python/3.7.4/Frameworks/Python.framework/Versions/3.7/lib/python3.7/multiprocessing/pool.py\u001b[0m in \u001b[0;36mget\u001b[0;34m(self, timeout)\u001b[0m\n\u001b[1;32m    649\u001b[0m \u001b[0;34m\u001b[0m\u001b[0m\n\u001b[1;32m    650\u001b[0m     \u001b[0;32mdef\u001b[0m \u001b[0mget\u001b[0m\u001b[0;34m(\u001b[0m\u001b[0mself\u001b[0m\u001b[0;34m,\u001b[0m \u001b[0mtimeout\u001b[0m\u001b[0;34m=\u001b[0m\u001b[0;32mNone\u001b[0m\u001b[0;34m)\u001b[0m\u001b[0;34m:\u001b[0m\u001b[0;34m\u001b[0m\u001b[0;34m\u001b[0m\u001b[0m\n\u001b[0;32m--> 651\u001b[0;31m         \u001b[0mself\u001b[0m\u001b[0;34m.\u001b[0m\u001b[0mwait\u001b[0m\u001b[0;34m(\u001b[0m\u001b[0mtimeout\u001b[0m\u001b[0;34m)\u001b[0m\u001b[0;34m\u001b[0m\u001b[0;34m\u001b[0m\u001b[0m\n\u001b[0m\u001b[1;32m    652\u001b[0m         \u001b[0;32mif\u001b[0m \u001b[0;32mnot\u001b[0m \u001b[0mself\u001b[0m\u001b[0;34m.\u001b[0m\u001b[0mready\u001b[0m\u001b[0;34m(\u001b[0m\u001b[0;34m)\u001b[0m\u001b[0;34m:\u001b[0m\u001b[0;34m\u001b[0m\u001b[0;34m\u001b[0m\u001b[0m\n\u001b[1;32m    653\u001b[0m             \u001b[0;32mraise\u001b[0m \u001b[0mTimeoutError\u001b[0m\u001b[0;34m\u001b[0m\u001b[0;34m\u001b[0m\u001b[0m\n",
      "\u001b[0;32m/usr/local/Cellar/python/3.7.4/Frameworks/Python.framework/Versions/3.7/lib/python3.7/multiprocessing/pool.py\u001b[0m in \u001b[0;36mwait\u001b[0;34m(self, timeout)\u001b[0m\n\u001b[1;32m    646\u001b[0m \u001b[0;34m\u001b[0m\u001b[0m\n\u001b[1;32m    647\u001b[0m     \u001b[0;32mdef\u001b[0m \u001b[0mwait\u001b[0m\u001b[0;34m(\u001b[0m\u001b[0mself\u001b[0m\u001b[0;34m,\u001b[0m \u001b[0mtimeout\u001b[0m\u001b[0;34m=\u001b[0m\u001b[0;32mNone\u001b[0m\u001b[0;34m)\u001b[0m\u001b[0;34m:\u001b[0m\u001b[0;34m\u001b[0m\u001b[0;34m\u001b[0m\u001b[0m\n\u001b[0;32m--> 648\u001b[0;31m         \u001b[0mself\u001b[0m\u001b[0;34m.\u001b[0m\u001b[0m_event\u001b[0m\u001b[0;34m.\u001b[0m\u001b[0mwait\u001b[0m\u001b[0;34m(\u001b[0m\u001b[0mtimeout\u001b[0m\u001b[0;34m)\u001b[0m\u001b[0;34m\u001b[0m\u001b[0;34m\u001b[0m\u001b[0m\n\u001b[0m\u001b[1;32m    649\u001b[0m \u001b[0;34m\u001b[0m\u001b[0m\n\u001b[1;32m    650\u001b[0m     \u001b[0;32mdef\u001b[0m \u001b[0mget\u001b[0m\u001b[0;34m(\u001b[0m\u001b[0mself\u001b[0m\u001b[0;34m,\u001b[0m \u001b[0mtimeout\u001b[0m\u001b[0;34m=\u001b[0m\u001b[0;32mNone\u001b[0m\u001b[0;34m)\u001b[0m\u001b[0;34m:\u001b[0m\u001b[0;34m\u001b[0m\u001b[0;34m\u001b[0m\u001b[0m\n",
      "\u001b[0;32m/usr/local/Cellar/python/3.7.4/Frameworks/Python.framework/Versions/3.7/lib/python3.7/threading.py\u001b[0m in \u001b[0;36mwait\u001b[0;34m(self, timeout)\u001b[0m\n\u001b[1;32m    550\u001b[0m             \u001b[0msignaled\u001b[0m \u001b[0;34m=\u001b[0m \u001b[0mself\u001b[0m\u001b[0;34m.\u001b[0m\u001b[0m_flag\u001b[0m\u001b[0;34m\u001b[0m\u001b[0;34m\u001b[0m\u001b[0m\n\u001b[1;32m    551\u001b[0m             \u001b[0;32mif\u001b[0m \u001b[0;32mnot\u001b[0m \u001b[0msignaled\u001b[0m\u001b[0;34m:\u001b[0m\u001b[0;34m\u001b[0m\u001b[0;34m\u001b[0m\u001b[0m\n\u001b[0;32m--> 552\u001b[0;31m                 \u001b[0msignaled\u001b[0m \u001b[0;34m=\u001b[0m \u001b[0mself\u001b[0m\u001b[0;34m.\u001b[0m\u001b[0m_cond\u001b[0m\u001b[0;34m.\u001b[0m\u001b[0mwait\u001b[0m\u001b[0;34m(\u001b[0m\u001b[0mtimeout\u001b[0m\u001b[0;34m)\u001b[0m\u001b[0;34m\u001b[0m\u001b[0;34m\u001b[0m\u001b[0m\n\u001b[0m\u001b[1;32m    553\u001b[0m             \u001b[0;32mreturn\u001b[0m \u001b[0msignaled\u001b[0m\u001b[0;34m\u001b[0m\u001b[0;34m\u001b[0m\u001b[0m\n\u001b[1;32m    554\u001b[0m \u001b[0;34m\u001b[0m\u001b[0m\n",
      "\u001b[0;32m/usr/local/Cellar/python/3.7.4/Frameworks/Python.framework/Versions/3.7/lib/python3.7/threading.py\u001b[0m in \u001b[0;36mwait\u001b[0;34m(self, timeout)\u001b[0m\n\u001b[1;32m    294\u001b[0m         \u001b[0;32mtry\u001b[0m\u001b[0;34m:\u001b[0m    \u001b[0;31m# restore state no matter what (e.g., KeyboardInterrupt)\u001b[0m\u001b[0;34m\u001b[0m\u001b[0;34m\u001b[0m\u001b[0m\n\u001b[1;32m    295\u001b[0m             \u001b[0;32mif\u001b[0m \u001b[0mtimeout\u001b[0m \u001b[0;32mis\u001b[0m \u001b[0;32mNone\u001b[0m\u001b[0;34m:\u001b[0m\u001b[0;34m\u001b[0m\u001b[0;34m\u001b[0m\u001b[0m\n\u001b[0;32m--> 296\u001b[0;31m                 \u001b[0mwaiter\u001b[0m\u001b[0;34m.\u001b[0m\u001b[0macquire\u001b[0m\u001b[0;34m(\u001b[0m\u001b[0;34m)\u001b[0m\u001b[0;34m\u001b[0m\u001b[0;34m\u001b[0m\u001b[0m\n\u001b[0m\u001b[1;32m    297\u001b[0m                 \u001b[0mgotit\u001b[0m \u001b[0;34m=\u001b[0m \u001b[0;32mTrue\u001b[0m\u001b[0;34m\u001b[0m\u001b[0;34m\u001b[0m\u001b[0m\n\u001b[1;32m    298\u001b[0m             \u001b[0;32melse\u001b[0m\u001b[0;34m:\u001b[0m\u001b[0;34m\u001b[0m\u001b[0;34m\u001b[0m\u001b[0m\n",
      "\u001b[0;31mKeyboardInterrupt\u001b[0m: "
     ]
    }
   ],
   "source": [
    "pandas_profiling.ProfileReport(df)"
   ]
  },
  {
   "cell_type": "code",
   "execution_count": 10,
   "metadata": {},
   "outputs": [
    {
     "name": "stdout",
     "output_type": "stream",
     "text": [
      "Index(['DRG Definition', 'Provider Id', 'Provider Name',\n",
      "       'Provider Street Address', 'Provider City', 'Provider State',\n",
      "       'Provider Zip Code', 'Hospital Referral Region (HRR) Description',\n",
      "       'Total Discharges', 'Average Covered Charges', 'Average Total Payments',\n",
      "       'Average Medicare Payments'],\n",
      "      dtype='object')\n"
     ]
    },
    {
     "data": {
      "text/html": [
       "<div>\n",
       "<style scoped>\n",
       "    .dataframe tbody tr th:only-of-type {\n",
       "        vertical-align: middle;\n",
       "    }\n",
       "\n",
       "    .dataframe tbody tr th {\n",
       "        vertical-align: top;\n",
       "    }\n",
       "\n",
       "    .dataframe thead th {\n",
       "        text-align: right;\n",
       "    }\n",
       "</style>\n",
       "<table border=\"1\" class=\"dataframe\">\n",
       "  <thead>\n",
       "    <tr style=\"text-align: right;\">\n",
       "      <th></th>\n",
       "      <th>DRG Definition</th>\n",
       "      <th>Provider Id</th>\n",
       "      <th>Provider Name</th>\n",
       "      <th>Provider Street Address</th>\n",
       "      <th>Provider City</th>\n",
       "      <th>Provider State</th>\n",
       "      <th>Provider Zip Code</th>\n",
       "      <th>Hospital Referral Region (HRR) Description</th>\n",
       "      <th>Total Discharges</th>\n",
       "      <th>Average Covered Charges</th>\n",
       "      <th>Average Total Payments</th>\n",
       "      <th>Average Medicare Payments</th>\n",
       "    </tr>\n",
       "  </thead>\n",
       "  <tbody>\n",
       "    <tr>\n",
       "      <td>0</td>\n",
       "      <td>0.0</td>\n",
       "      <td>10001</td>\n",
       "      <td>2518.0</td>\n",
       "      <td>318.0</td>\n",
       "      <td>454.0</td>\n",
       "      <td>1.0</td>\n",
       "      <td>36301</td>\n",
       "      <td>2.0</td>\n",
       "      <td>91</td>\n",
       "      <td>32963.07692</td>\n",
       "      <td>5777.241758</td>\n",
       "      <td>4763.736264</td>\n",
       "    </tr>\n",
       "    <tr>\n",
       "      <td>1</td>\n",
       "      <td>0.0</td>\n",
       "      <td>10005</td>\n",
       "      <td>1498.0</td>\n",
       "      <td>1493.0</td>\n",
       "      <td>177.0</td>\n",
       "      <td>1.0</td>\n",
       "      <td>35957</td>\n",
       "      <td>1.0</td>\n",
       "      <td>14</td>\n",
       "      <td>15131.85714</td>\n",
       "      <td>5787.571429</td>\n",
       "      <td>4976.714286</td>\n",
       "    </tr>\n",
       "    <tr>\n",
       "      <td>2</td>\n",
       "      <td>0.0</td>\n",
       "      <td>10006</td>\n",
       "      <td>729.0</td>\n",
       "      <td>1229.0</td>\n",
       "      <td>582.0</td>\n",
       "      <td>1.0</td>\n",
       "      <td>35631</td>\n",
       "      <td>1.0</td>\n",
       "      <td>24</td>\n",
       "      <td>37560.37500</td>\n",
       "      <td>5434.958333</td>\n",
       "      <td>4453.791667</td>\n",
       "    </tr>\n",
       "    <tr>\n",
       "      <td>3</td>\n",
       "      <td>0.0</td>\n",
       "      <td>10011</td>\n",
       "      <td>2722.0</td>\n",
       "      <td>2290.0</td>\n",
       "      <td>162.0</td>\n",
       "      <td>1.0</td>\n",
       "      <td>35235</td>\n",
       "      <td>1.0</td>\n",
       "      <td>25</td>\n",
       "      <td>13998.28000</td>\n",
       "      <td>5417.560000</td>\n",
       "      <td>4129.160000</td>\n",
       "    </tr>\n",
       "    <tr>\n",
       "      <td>4</td>\n",
       "      <td>0.0</td>\n",
       "      <td>10016</td>\n",
       "      <td>2444.0</td>\n",
       "      <td>86.0</td>\n",
       "      <td>13.0</td>\n",
       "      <td>1.0</td>\n",
       "      <td>35007</td>\n",
       "      <td>1.0</td>\n",
       "      <td>18</td>\n",
       "      <td>31633.27778</td>\n",
       "      <td>5658.333333</td>\n",
       "      <td>4851.444444</td>\n",
       "    </tr>\n",
       "  </tbody>\n",
       "</table>\n",
       "</div>"
      ],
      "text/plain": [
       "   DRG Definition  Provider Id  Provider Name  Provider Street Address  \\\n",
       "0             0.0        10001         2518.0                    318.0   \n",
       "1             0.0        10005         1498.0                   1493.0   \n",
       "2             0.0        10006          729.0                   1229.0   \n",
       "3             0.0        10011         2722.0                   2290.0   \n",
       "4             0.0        10016         2444.0                     86.0   \n",
       "\n",
       "   Provider City  Provider State  Provider Zip Code  \\\n",
       "0          454.0             1.0              36301   \n",
       "1          177.0             1.0              35957   \n",
       "2          582.0             1.0              35631   \n",
       "3          162.0             1.0              35235   \n",
       "4           13.0             1.0              35007   \n",
       "\n",
       "   Hospital Referral Region (HRR) Description  Total Discharges  \\\n",
       "0                                         2.0                91   \n",
       "1                                         1.0                14   \n",
       "2                                         1.0                24   \n",
       "3                                         1.0                25   \n",
       "4                                         1.0                18   \n",
       "\n",
       "   Average Covered Charges  Average Total Payments  Average Medicare Payments  \n",
       "0              32963.07692             5777.241758                4763.736264  \n",
       "1              15131.85714             5787.571429                4976.714286  \n",
       "2              37560.37500             5434.958333                4453.791667  \n",
       "3              13998.28000             5417.560000                4129.160000  \n",
       "4              31633.27778             5658.333333                4851.444444  "
      ]
     },
     "execution_count": 10,
     "metadata": {},
     "output_type": "execute_result"
    }
   ],
   "source": [
    "'''\n",
    "Preprocessing\n",
    "  - Encode the columns that have text instead of numbers\n",
    "'''\n",
    "print(df.columns)\n",
    "\n",
    "encoder = preprocessing.OrdinalEncoder()\n",
    "\n",
    "cols = ['DRG Definition','Provider Name','Provider Street Address', 'Provider City', 'Provider State','Hospital Referral Region (HRR) Description']\n",
    "for col in cols:\n",
    "    topic = np.array(df[col].unique()).reshape(-1,1)\n",
    "    encoder.fit(topic)\n",
    "    df[col] = encoder.transform(np.array(df[col]).reshape(-1,1))\n",
    "\n",
    "df.head()"
   ]
  },
  {
   "cell_type": "code",
   "execution_count": null,
   "metadata": {},
   "outputs": [],
   "source": [
    "'''\n",
    "Data Exploration continued\n",
    "  - More plotting and stuff\n",
    "'''\n",
    "# Warning: This will take a bit of time to run so be prepared before running (possible 20+ mins) see file it is saved to\n",
    "sns.pairplot(df)\n",
    "plt.savefig('Column_by_Column.png')"
   ]
  },
  {
   "cell_type": "code",
   "execution_count": null,
   "metadata": {},
   "outputs": [],
   "source": [
    "# Bar graphs that are more readable\n",
    "i = 0\n",
    "for col in df.columns:\n",
    "    plt.figure(i)\n",
    "    sns.distplot(df[col])\n",
    "    i+=1"
   ]
  },
  {
   "cell_type": "code",
   "execution_count": null,
   "metadata": {},
   "outputs": [],
   "source": [
    "# Box plots of data\n",
    "i = 0\n",
    "for col in df.columns:\n",
    "    plt.figure(i)\n",
    "    sns.boxplot(df[col])\n",
    "    i+=1"
   ]
  },
  {
   "cell_type": "code",
   "execution_count": 11,
   "metadata": {},
   "outputs": [
    {
     "data": {
      "text/html": [
       "<div>\n",
       "<style scoped>\n",
       "    .dataframe tbody tr th:only-of-type {\n",
       "        vertical-align: middle;\n",
       "    }\n",
       "\n",
       "    .dataframe tbody tr th {\n",
       "        vertical-align: top;\n",
       "    }\n",
       "\n",
       "    .dataframe thead th {\n",
       "        text-align: right;\n",
       "    }\n",
       "</style>\n",
       "<table border=\"1\" class=\"dataframe\">\n",
       "  <thead>\n",
       "    <tr style=\"text-align: right;\">\n",
       "      <th></th>\n",
       "      <th>DRG Definition</th>\n",
       "      <th>Provider Id</th>\n",
       "      <th>Provider Name</th>\n",
       "      <th>Provider Street Address</th>\n",
       "      <th>Provider City</th>\n",
       "      <th>Provider State</th>\n",
       "      <th>Provider Zip Code</th>\n",
       "      <th>Hospital Referral Region (HRR) Description</th>\n",
       "      <th>Total Discharges</th>\n",
       "      <th>Average Covered Charges</th>\n",
       "      <th>Average Total Payments</th>\n",
       "      <th>Average Medicare Payments</th>\n",
       "    </tr>\n",
       "  </thead>\n",
       "  <tbody>\n",
       "    <tr>\n",
       "      <td>count</td>\n",
       "      <td>163065.000000</td>\n",
       "      <td>163065.000000</td>\n",
       "      <td>163065.000000</td>\n",
       "      <td>163065.000000</td>\n",
       "      <td>163065.000000</td>\n",
       "      <td>163065.000000</td>\n",
       "      <td>163065.000000</td>\n",
       "      <td>163065.000000</td>\n",
       "      <td>163065.000000</td>\n",
       "      <td>163065.000000</td>\n",
       "      <td>163065.000000</td>\n",
       "      <td>163065.000000</td>\n",
       "    </tr>\n",
       "    <tr>\n",
       "      <td>mean</td>\n",
       "      <td>48.805568</td>\n",
       "      <td>255569.865428</td>\n",
       "      <td>1637.504382</td>\n",
       "      <td>1680.229865</td>\n",
       "      <td>964.389188</td>\n",
       "      <td>24.179560</td>\n",
       "      <td>47938.121908</td>\n",
       "      <td>151.779254</td>\n",
       "      <td>42.776304</td>\n",
       "      <td>36133.958434</td>\n",
       "      <td>9707.477867</td>\n",
       "      <td>8494.495174</td>\n",
       "    </tr>\n",
       "    <tr>\n",
       "      <td>std</td>\n",
       "      <td>28.934214</td>\n",
       "      <td>151563.671767</td>\n",
       "      <td>926.613671</td>\n",
       "      <td>961.281152</td>\n",
       "      <td>564.127054</td>\n",
       "      <td>14.499223</td>\n",
       "      <td>27854.323080</td>\n",
       "      <td>87.552090</td>\n",
       "      <td>51.104042</td>\n",
       "      <td>35065.365905</td>\n",
       "      <td>7664.642652</td>\n",
       "      <td>7309.467247</td>\n",
       "    </tr>\n",
       "    <tr>\n",
       "      <td>min</td>\n",
       "      <td>0.000000</td>\n",
       "      <td>10001.000000</td>\n",
       "      <td>0.000000</td>\n",
       "      <td>0.000000</td>\n",
       "      <td>0.000000</td>\n",
       "      <td>0.000000</td>\n",
       "      <td>1040.000000</td>\n",
       "      <td>0.000000</td>\n",
       "      <td>11.000000</td>\n",
       "      <td>2459.400000</td>\n",
       "      <td>2673.000000</td>\n",
       "      <td>1148.909091</td>\n",
       "    </tr>\n",
       "    <tr>\n",
       "      <td>25%</td>\n",
       "      <td>22.000000</td>\n",
       "      <td>110092.000000</td>\n",
       "      <td>838.000000</td>\n",
       "      <td>847.000000</td>\n",
       "      <td>454.000000</td>\n",
       "      <td>10.000000</td>\n",
       "      <td>27261.000000</td>\n",
       "      <td>71.000000</td>\n",
       "      <td>17.000000</td>\n",
       "      <td>15947.166670</td>\n",
       "      <td>5234.500000</td>\n",
       "      <td>4192.354839</td>\n",
       "    </tr>\n",
       "    <tr>\n",
       "      <td>50%</td>\n",
       "      <td>48.000000</td>\n",
       "      <td>250007.000000</td>\n",
       "      <td>1665.000000</td>\n",
       "      <td>1689.000000</td>\n",
       "      <td>970.000000</td>\n",
       "      <td>24.000000</td>\n",
       "      <td>44309.000000</td>\n",
       "      <td>158.000000</td>\n",
       "      <td>27.000000</td>\n",
       "      <td>25245.823530</td>\n",
       "      <td>7214.100000</td>\n",
       "      <td>6158.465116</td>\n",
       "    </tr>\n",
       "    <tr>\n",
       "      <td>75%</td>\n",
       "      <td>75.000000</td>\n",
       "      <td>380075.000000</td>\n",
       "      <td>2462.000000</td>\n",
       "      <td>2514.000000</td>\n",
       "      <td>1449.000000</td>\n",
       "      <td>37.000000</td>\n",
       "      <td>72901.000000</td>\n",
       "      <td>227.000000</td>\n",
       "      <td>49.000000</td>\n",
       "      <td>43232.592590</td>\n",
       "      <td>11286.400000</td>\n",
       "      <td>10056.882350</td>\n",
       "    </tr>\n",
       "    <tr>\n",
       "      <td>max</td>\n",
       "      <td>99.000000</td>\n",
       "      <td>670077.000000</td>\n",
       "      <td>3200.000000</td>\n",
       "      <td>3325.000000</td>\n",
       "      <td>1976.000000</td>\n",
       "      <td>50.000000</td>\n",
       "      <td>99835.000000</td>\n",
       "      <td>305.000000</td>\n",
       "      <td>3383.000000</td>\n",
       "      <td>929118.909100</td>\n",
       "      <td>156158.181800</td>\n",
       "      <td>154620.818200</td>\n",
       "    </tr>\n",
       "  </tbody>\n",
       "</table>\n",
       "</div>"
      ],
      "text/plain": [
       "       DRG Definition    Provider Id  Provider Name  Provider Street Address  \\\n",
       "count   163065.000000  163065.000000  163065.000000            163065.000000   \n",
       "mean        48.805568  255569.865428    1637.504382              1680.229865   \n",
       "std         28.934214  151563.671767     926.613671               961.281152   \n",
       "min          0.000000   10001.000000       0.000000                 0.000000   \n",
       "25%         22.000000  110092.000000     838.000000               847.000000   \n",
       "50%         48.000000  250007.000000    1665.000000              1689.000000   \n",
       "75%         75.000000  380075.000000    2462.000000              2514.000000   \n",
       "max         99.000000  670077.000000    3200.000000              3325.000000   \n",
       "\n",
       "       Provider City  Provider State  Provider Zip Code  \\\n",
       "count  163065.000000   163065.000000      163065.000000   \n",
       "mean      964.389188       24.179560       47938.121908   \n",
       "std       564.127054       14.499223       27854.323080   \n",
       "min         0.000000        0.000000        1040.000000   \n",
       "25%       454.000000       10.000000       27261.000000   \n",
       "50%       970.000000       24.000000       44309.000000   \n",
       "75%      1449.000000       37.000000       72901.000000   \n",
       "max      1976.000000       50.000000       99835.000000   \n",
       "\n",
       "       Hospital Referral Region (HRR) Description  Total Discharges  \\\n",
       "count                               163065.000000     163065.000000   \n",
       "mean                                   151.779254         42.776304   \n",
       "std                                     87.552090         51.104042   \n",
       "min                                      0.000000         11.000000   \n",
       "25%                                     71.000000         17.000000   \n",
       "50%                                    158.000000         27.000000   \n",
       "75%                                    227.000000         49.000000   \n",
       "max                                    305.000000       3383.000000   \n",
       "\n",
       "       Average Covered Charges  Average Total Payments  \\\n",
       "count            163065.000000           163065.000000   \n",
       "mean              36133.958434             9707.477867   \n",
       "std               35065.365905             7664.642652   \n",
       "min                2459.400000             2673.000000   \n",
       "25%               15947.166670             5234.500000   \n",
       "50%               25245.823530             7214.100000   \n",
       "75%               43232.592590            11286.400000   \n",
       "max              929118.909100           156158.181800   \n",
       "\n",
       "       Average Medicare Payments  \n",
       "count              163065.000000  \n",
       "mean                 8494.495174  \n",
       "std                  7309.467247  \n",
       "min                  1148.909091  \n",
       "25%                  4192.354839  \n",
       "50%                  6158.465116  \n",
       "75%                 10056.882350  \n",
       "max                154620.818200  "
      ]
     },
     "execution_count": 11,
     "metadata": {},
     "output_type": "execute_result"
    }
   ],
   "source": [
    "df.describe()"
   ]
  },
  {
   "cell_type": "code",
   "execution_count": 5,
   "metadata": {
    "collapsed": true
   },
   "outputs": [
    {
     "name": "stdout",
     "output_type": "stream",
     "text": [
      "Min: 5.970146577996632e-07, Max: 65.3614426838996\n",
      "STD: 0.618197525812431\n",
      "Mean: 0.7860227853436493\n"
     ]
    },
    {
     "data": {
      "text/plain": [
       "<matplotlib.axes._subplots.AxesSubplot at 0x1b876defd30>"
      ]
     },
     "execution_count": 5,
     "metadata": {},
     "output_type": "execute_result"
    },
    {
     "data": {
      "image/png": "[encoded data removed]",
      "text/plain": [
       "<Figure size 432x288 with 1 Axes>"
      ]
     },
     "metadata": {
      "needs_background": "light"
     },
     "output_type": "display_data"
    }
   ],
   "source": [
    "# No used, but we can talk about what we tried using z-scores\n",
    "df_z = np.abs(stats.zscore(df))\n",
    "df_z.sort()\n",
    "max = np.max(df_z)\n",
    "min = np.min(df_z)\n",
    "print(f'Min: {min}, Max: {max}')\n",
    "print(f'STD: {np.std(df_z)}')\n",
    "print(f'Mean: {np.mean(df_z)}')\n",
    "\n",
    "sns.boxplot(df_z)\n",
    "\n",
    "\n",
    "df2 = df[(np.abs(stats.zscore(df)) <= 1).all(axis=1)]\n",
    "df2.head()\n",
    "sns.boxplot(stats.zscore(df2))"
   ]
  },
  {
   "cell_type": "code",
   "execution_count": 15,
   "metadata": {},
   "outputs": [
    {
     "data": {
      "text/html": [
       "<div>\n",
       "<style scoped>\n",
       "    .dataframe tbody tr th:only-of-type {\n",
       "        vertical-align: middle;\n",
       "    }\n",
       "\n",
       "    .dataframe tbody tr th {\n",
       "        vertical-align: top;\n",
       "    }\n",
       "\n",
       "    .dataframe thead th {\n",
       "        text-align: right;\n",
       "    }\n",
       "</style>\n",
       "<table border=\"1\" class=\"dataframe\">\n",
       "  <thead>\n",
       "    <tr style=\"text-align: right;\">\n",
       "      <th></th>\n",
       "      <th>DRG Definition</th>\n",
       "      <th>Provider Id</th>\n",
       "      <th>Provider Name</th>\n",
       "      <th>Provider Street Address</th>\n",
       "      <th>Provider City</th>\n",
       "      <th>Provider State</th>\n",
       "      <th>Provider Zip Code</th>\n",
       "      <th>Hospital Referral Region (HRR) Description</th>\n",
       "      <th>Total Discharges</th>\n",
       "      <th>Average Covered Charges</th>\n",
       "      <th>Average Medicare Payments</th>\n",
       "    </tr>\n",
       "  </thead>\n",
       "  <tbody>\n",
       "    <tr>\n",
       "      <td>count</td>\n",
       "      <td>163065.000000</td>\n",
       "      <td>163065.000000</td>\n",
       "      <td>163065.000000</td>\n",
       "      <td>163065.000000</td>\n",
       "      <td>163065.000000</td>\n",
       "      <td>163065.000000</td>\n",
       "      <td>163065.000000</td>\n",
       "      <td>163065.000000</td>\n",
       "      <td>163065.000000</td>\n",
       "      <td>163065.000000</td>\n",
       "      <td>163065.000000</td>\n",
       "    </tr>\n",
       "    <tr>\n",
       "      <td>mean</td>\n",
       "      <td>48.805568</td>\n",
       "      <td>255569.865428</td>\n",
       "      <td>1637.504382</td>\n",
       "      <td>1680.229865</td>\n",
       "      <td>964.389188</td>\n",
       "      <td>24.179560</td>\n",
       "      <td>47938.121908</td>\n",
       "      <td>151.779254</td>\n",
       "      <td>42.776304</td>\n",
       "      <td>36133.958434</td>\n",
       "      <td>8494.495174</td>\n",
       "    </tr>\n",
       "    <tr>\n",
       "      <td>std</td>\n",
       "      <td>28.934214</td>\n",
       "      <td>151563.671767</td>\n",
       "      <td>926.613671</td>\n",
       "      <td>961.281152</td>\n",
       "      <td>564.127054</td>\n",
       "      <td>14.499223</td>\n",
       "      <td>27854.323080</td>\n",
       "      <td>87.552090</td>\n",
       "      <td>51.104042</td>\n",
       "      <td>35065.365905</td>\n",
       "      <td>7309.467247</td>\n",
       "    </tr>\n",
       "    <tr>\n",
       "      <td>min</td>\n",
       "      <td>0.000000</td>\n",
       "      <td>10001.000000</td>\n",
       "      <td>0.000000</td>\n",
       "      <td>0.000000</td>\n",
       "      <td>0.000000</td>\n",
       "      <td>0.000000</td>\n",
       "      <td>1040.000000</td>\n",
       "      <td>0.000000</td>\n",
       "      <td>11.000000</td>\n",
       "      <td>2459.400000</td>\n",
       "      <td>1148.909091</td>\n",
       "    </tr>\n",
       "    <tr>\n",
       "      <td>25%</td>\n",
       "      <td>22.000000</td>\n",
       "      <td>110092.000000</td>\n",
       "      <td>838.000000</td>\n",
       "      <td>847.000000</td>\n",
       "      <td>454.000000</td>\n",
       "      <td>10.000000</td>\n",
       "      <td>27261.000000</td>\n",
       "      <td>71.000000</td>\n",
       "      <td>17.000000</td>\n",
       "      <td>15947.166670</td>\n",
       "      <td>4192.354839</td>\n",
       "    </tr>\n",
       "    <tr>\n",
       "      <td>50%</td>\n",
       "      <td>48.000000</td>\n",
       "      <td>250007.000000</td>\n",
       "      <td>1665.000000</td>\n",
       "      <td>1689.000000</td>\n",
       "      <td>970.000000</td>\n",
       "      <td>24.000000</td>\n",
       "      <td>44309.000000</td>\n",
       "      <td>158.000000</td>\n",
       "      <td>27.000000</td>\n",
       "      <td>25245.823530</td>\n",
       "      <td>6158.465116</td>\n",
       "    </tr>\n",
       "    <tr>\n",
       "      <td>75%</td>\n",
       "      <td>75.000000</td>\n",
       "      <td>380075.000000</td>\n",
       "      <td>2462.000000</td>\n",
       "      <td>2514.000000</td>\n",
       "      <td>1449.000000</td>\n",
       "      <td>37.000000</td>\n",
       "      <td>72901.000000</td>\n",
       "      <td>227.000000</td>\n",
       "      <td>49.000000</td>\n",
       "      <td>43232.592590</td>\n",
       "      <td>10056.882350</td>\n",
       "    </tr>\n",
       "    <tr>\n",
       "      <td>max</td>\n",
       "      <td>99.000000</td>\n",
       "      <td>670077.000000</td>\n",
       "      <td>3200.000000</td>\n",
       "      <td>3325.000000</td>\n",
       "      <td>1976.000000</td>\n",
       "      <td>50.000000</td>\n",
       "      <td>99835.000000</td>\n",
       "      <td>305.000000</td>\n",
       "      <td>3383.000000</td>\n",
       "      <td>929118.909100</td>\n",
       "      <td>154620.818200</td>\n",
       "    </tr>\n",
       "  </tbody>\n",
       "</table>\n",
       "</div>"
      ],
      "text/plain": [
       "       DRG Definition    Provider Id  Provider Name  Provider Street Address  \\\n",
       "count   163065.000000  163065.000000  163065.000000            163065.000000   \n",
       "mean        48.805568  255569.865428    1637.504382              1680.229865   \n",
       "std         28.934214  151563.671767     926.613671               961.281152   \n",
       "min          0.000000   10001.000000       0.000000                 0.000000   \n",
       "25%         22.000000  110092.000000     838.000000               847.000000   \n",
       "50%         48.000000  250007.000000    1665.000000              1689.000000   \n",
       "75%         75.000000  380075.000000    2462.000000              2514.000000   \n",
       "max         99.000000  670077.000000    3200.000000              3325.000000   \n",
       "\n",
       "       Provider City  Provider State  Provider Zip Code  \\\n",
       "count  163065.000000   163065.000000      163065.000000   \n",
       "mean      964.389188       24.179560       47938.121908   \n",
       "std       564.127054       14.499223       27854.323080   \n",
       "min         0.000000        0.000000        1040.000000   \n",
       "25%       454.000000       10.000000       27261.000000   \n",
       "50%       970.000000       24.000000       44309.000000   \n",
       "75%      1449.000000       37.000000       72901.000000   \n",
       "max      1976.000000       50.000000       99835.000000   \n",
       "\n",
       "       Hospital Referral Region (HRR) Description  Total Discharges  \\\n",
       "count                               163065.000000     163065.000000   \n",
       "mean                                   151.779254         42.776304   \n",
       "std                                     87.552090         51.104042   \n",
       "min                                      0.000000         11.000000   \n",
       "25%                                     71.000000         17.000000   \n",
       "50%                                    158.000000         27.000000   \n",
       "75%                                    227.000000         49.000000   \n",
       "max                                    305.000000       3383.000000   \n",
       "\n",
       "       Average Covered Charges  Average Medicare Payments  \n",
       "count            163065.000000              163065.000000  \n",
       "mean              36133.958434                8494.495174  \n",
       "std               35065.365905                7309.467247  \n",
       "min                2459.400000                1148.909091  \n",
       "25%               15947.166670                4192.354839  \n",
       "50%               25245.823530                6158.465116  \n",
       "75%               43232.592590               10056.882350  \n",
       "max              929118.909100              154620.818200  "
      ]
     },
     "execution_count": 15,
     "metadata": {},
     "output_type": "execute_result"
    }
   ],
   "source": [
    "'''\n",
    "KMeans Code Section \n",
    "  - Uses PCA to reduce the features\n",
    "  - Then does K-Means\n",
    "  - Two K-Means one without standardization and one with\n",
    "'''\n",
    "from sklearn.decomposition import PCA\n",
    "pca = PCA(n_components=2)\n",
    "target = df['Average Total Payments']\n",
    "X = df.drop(columns='Average Total Payments')\n",
    "\n",
    "X.describe()"
   ]
  },
  {
   "cell_type": "code",
   "execution_count": 13,
   "metadata": {},
   "outputs": [],
   "source": [
    "# Not used\n",
    "\n",
    "# result = pd.DataFrame(pca.fit_transform(X))\n",
    "# print(f\"Explained varience {pca.explained_variance_ratio_}\")\n",
    "# kmean = KMeans(n_clusters=2).fit(result)\n",
    "# sns.set()\n",
    "\n",
    "# res\n",
    "\n",
    "# sns.relplot(data=result.sample(frac=.5))"
   ]
  },
  {
   "cell_type": "code",
   "execution_count": 17,
   "metadata": {},
   "outputs": [
    {
     "name": "stdout",
     "output_type": "stream",
     "text": [
      "Explained varience [0.91650481 0.05260007]\n"
     ]
    }
   ],
   "source": [
    "test1, test2 = train_test_split(df,test_size=.5,random_state=1)\n",
    "temp = pd.DataFrame(pca.fit(test1).transform(test1))\n",
    "result = pd.DataFrame(temp)\n",
    "# Add explained varience to the slides and what it means\n",
    "print(f\"Explained varience {pca.explained_variance_ratio_}\")\n",
    "kmean = KMeans(n_clusters=3,random_state=3).fit(result)"
   ]
  },
  {
   "cell_type": "code",
   "execution_count": 18,
   "metadata": {
    "collapsed": true
   },
   "outputs": [
    {
     "data": {
      "text/plain": [
       "<matplotlib.collections.PathCollection at 0x12d41fc50>"
      ]
     },
     "execution_count": 18,
     "metadata": {},
     "output_type": "execute_result"
    },
    {
     "data": {
      "image/png": "[encoded data removed]",
      "text/plain": [
       "<Figure size 432x288 with 1 Axes>"
      ]
     },
     "metadata": {
      "needs_background": "light"
     },
     "output_type": "display_data"
    }
   ],
   "source": [
    "plt.scatter(x=temp[0],y=temp[1])"
   ]
  },
  {
   "cell_type": "code",
   "execution_count": 19,
   "metadata": {},
   "outputs": [
    {
     "data": {
      "text/plain": [
       "<matplotlib.collections.PathCollection at 0x12d41f190>"
      ]
     },
     "execution_count": 19,
     "metadata": {},
     "output_type": "execute_result"
    },
    {
     "data": {
      "image/png": "[encoded data removed]",
      "text/plain": [
       "<Figure size 432x288 with 1 Axes>"
      ]
     },
     "metadata": {
      "needs_background": "light"
     },
     "output_type": "display_data"
    }
   ],
   "source": [
    "# Explain these in the slides\n",
    "colors = kmean.fit_predict(test1)\n",
    "plt.title(\"K-Mean Cluster on PCA\")\n",
    "plt.scatter(result[0],result[1],c=colors)"
   ]
  },
  {
   "cell_type": "code",
   "execution_count": 39,
   "metadata": {
    "scrolled": true
   },
   "outputs": [
    {
     "name": "stdout",
     "output_type": "stream",
     "text": [
      "Range for DRG Definition is 99.0\n",
      "Range for Provider Id is 660076\n",
      "Range for Provider Name is 3200.0\n",
      "Range for Provider Street Address is 3325.0\n",
      "Range for Provider City is 1976.0\n",
      "Range for Provider State is 50.0\n",
      "Range for Provider Zip Code is 98795\n",
      "Range for Hospital Referral Region (HRR) Description is 305.0\n",
      "Range for Total Discharges is 3372\n",
      "Range for Average Covered Charges is 926659.5091\n",
      "Range for Average Total Payments is 153485.1818\n",
      "Range for Average Medicare Payments is 153471.909109\n"
     ]
    }
   ],
   "source": [
    "# Talk about this comparision in the slides between normal results and the standarization results\n",
    "for col in df.columns:\n",
    "    range_ = df[col].max() - df[col].min()\n",
    "    print(f\"Range for {col} is {range_}\")"
   ]
  },
  {
   "cell_type": "code",
   "execution_count": 47,
   "metadata": {},
   "outputs": [
    {
     "name": "stdout",
     "output_type": "stream",
     "text": [
      "Range for DRG Definition is 3.4215653345800305\n",
      "Range for Provider Id is 4.35512030211676\n",
      "Range for Provider Name is 3.453445499455457\n",
      "Range for Provider Street Address is 3.4589362228102614\n",
      "Range for Provider City is 3.5027677627952483\n",
      "Range for Provider State is 3.448471190862593\n",
      "Range for Provider Zip Code is 3.546857076738819\n",
      "Range for Hospital Referral Region (HRR) Description is 3.483651094197586\n",
      "Range for Total Discharges is 65.98324087973023\n",
      "Range for Average Covered Charges is 26.426712699850988\n",
      "Range for Average Total Payments is 20.02515438683522\n",
      "Range for Average Medicare Payments is 20.996383799987104\n"
     ]
    }
   ],
   "source": [
    "stand = preprocessing.StandardScaler()\n",
    "df2 = df.copy()\n",
    "for col in df2.columns:\n",
    "    arr = np.array(df2[col]).reshape(-1,1)\n",
    "    df2[col] = stand.fit_transform(arr)\n",
    "    range_ = df2[col].max() - df2[col].min()\n",
    "    print(f\"Range for {col} is {range_}\")"
   ]
  },
  {
   "cell_type": "code",
   "execution_count": 52,
   "metadata": {},
   "outputs": [
    {
     "name": "stdout",
     "output_type": "stream",
     "text": [
      "Explained varience [0.25753317 0.21632702]\n"
     ]
    },
    {
     "data": {
      "text/plain": [
       "<matplotlib.collections.PathCollection at 0x1b80b766be0>"
      ]
     },
     "execution_count": 52,
     "metadata": {},
     "output_type": "execute_result"
    },
    {
     "data": {
      "image/png": "[encoded data removed]",
      "text/plain": [
       "<Figure size 432x288 with 1 Axes>"
      ]
     },
     "metadata": {
      "needs_background": "light"
     },
     "output_type": "display_data"
    }
   ],
   "source": [
    "# Standarized PCA\n",
    "test1, test2 = train_test_split(df2,test_size=.5,random_state=1)\n",
    "temp = pd.DataFrame(pca.fit(test1).transform(test1))\n",
    "result = pd.DataFrame(temp)\n",
    "print(f\"Explained varience {pca.explained_variance_ratio_}\")\n",
    "kmean = KMeans(n_clusters=2,random_state=1).fit(result)\n",
    "colors = kmean.fit_predict(test1)\n",
    "plt.title(\"K-Mean Cluster on standardized PCA\")\n",
    "plt.scatter(result[0],result[1],c=colors)"
   ]
  },
  {
   "cell_type": "code",
   "execution_count": 42,
   "metadata": {},
   "outputs": [
    {
     "name": "stdout",
     "output_type": "stream",
     "text": [
      "LinearRegression(copy_X=True, fit_intercept=True, n_jobs=None, normalize=False)\n",
      "[-3.88873665e-01  7.43382290e-05  1.89229855e-02  6.76647342e-03\n",
      " -2.44363639e-02  1.21526740e+00  7.85246358e-04  3.67606555e-01\n",
      "  8.25554585e-01  7.33833722e-03  1.01070958e+00]\n",
      "\n",
      "Accuracy Percentage:  0.9807863985943546\n",
      "Mean Absolute Error: 521.9732778837767\n",
      "Mean Squared Error: 1135449.998421942\n",
      "Root Mean Squared Error: 1065.5749614278395\n"
     ]
    },
    {
     "data": {
      "image/png": "[encoded data removed]",
      "text/plain": [
       "<Figure size 1080x720 with 1 Axes>"
      ]
     },
     "metadata": {
      "needs_background": "light"
     },
     "output_type": "display_data"
    },
    {
     "data": {
      "image/png": "[encoded data removed]",
      "text/plain": [
       "<Figure size 1080x720 with 1 Axes>"
      ]
     },
     "metadata": {
      "needs_background": "light"
     },
     "output_type": "display_data"
    }
   ],
   "source": [
    "# Multiple Linear Regression Algorithm\n",
    "\n",
    "y = df['Average Total Payments'].values\n",
    "X = df.drop(columns='Average Total Payments').values\n",
    "# X.describe()\n",
    "plt.figure(0,figsize=(15,10))\n",
    "plt.tight_layout()\n",
    "sns.distplot(df['Average Total Payments'])\n",
    "\n",
    "\n",
    "\n",
    "\n",
    "X_train, X_test, y_train, y_test = train_test_split(X, y, test_size=0.2, random_state=0)\n",
    "regressor = LinearRegression()  \n",
    "regressor.fit(X_train, y_train)\n",
    "print(regressor)\n",
    "\n",
    "coeff_df = regressor.coef_\n",
    "print(coeff_df)\n",
    "\n",
    "\n",
    "y_pred = regressor.predict(X_test)\n",
    "df_ML = pd.DataFrame({'Actual': y_test, 'Predicted': y_pred})\n",
    "# These graphs will be explained in the slides\n",
    "plt.figure(1,figsize=(15,10))\n",
    "sns.distplot(y_test,label='true')\n",
    "sns.distplot(y_pred,label='Predicted')\n",
    "plt.legend()\n",
    "print(\"\\nAccuracy Percentage: \",regressor.score(X_test,y_test))\n",
    "df_ML.describe()\n",
    "\n",
    "\n",
    "# Alternate Graph\n",
    "# df1.plot(kind='bar',figsize=(10,8))\n",
    "# plt.grid(which='major', linestyle='-', linewidth='0.5', color='green')\n",
    "# plt.grid(which='minor', linestyle=':', linewidth='0.5', color='black')\n",
    "# plt.show()\n",
    "\n",
    "# Explain these in the presentation\n",
    "print('Mean Absolute Error:', metrics.mean_absolute_error(y_test, y_pred))  \n",
    "print('Mean Squared Error:', metrics.mean_squared_error(y_test, y_pred))  \n",
    "print('Root Mean Squared Error:', np.sqrt(metrics.mean_squared_error(y_test, y_pred)))"
   ]
  },
  {
   "cell_type": "code",
   "execution_count": null,
   "metadata": {},
   "outputs": [],
   "source": []
  }
 ],
 "metadata": {
  "kernelspec": {
   "display_name": "Python 3",
   "language": "python",
   "name": "python3"
  },
  "language_info": {
   "codemirror_mode": {
    "name": "ipython",
    "version": 3
   },
   "file_extension": ".py",
   "mimetype": "text/x-python",
   "name": "python",
   "nbconvert_exporter": "python",
   "pygments_lexer": "ipython3",
   "version": "3.7.4"
  }
 },
 "nbformat": 4,
 "nbformat_minor": 2
}
